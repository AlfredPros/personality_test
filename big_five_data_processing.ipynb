{
 "cells": [
  {
   "cell_type": "code",
   "execution_count": 1,
   "id": "da3c35ee",
   "metadata": {},
   "outputs": [],
   "source": [
    "import pandas as pd"
   ]
  },
  {
   "cell_type": "code",
   "execution_count": 5,
   "id": "392ddbf7",
   "metadata": {},
   "outputs": [
    {
     "data": {
      "text/html": [
       "<div>\n",
       "<style scoped>\n",
       "    .dataframe tbody tr th:only-of-type {\n",
       "        vertical-align: middle;\n",
       "    }\n",
       "\n",
       "    .dataframe tbody tr th {\n",
       "        vertical-align: top;\n",
       "    }\n",
       "\n",
       "    .dataframe thead th {\n",
       "        text-align: right;\n",
       "    }\n",
       "</style>\n",
       "<table border=\"1\" class=\"dataframe\">\n",
       "  <thead>\n",
       "    <tr style=\"text-align: right;\">\n",
       "      <th></th>\n",
       "      <th>EXT1</th>\n",
       "      <th>EXT2</th>\n",
       "      <th>EXT3</th>\n",
       "      <th>EXT4</th>\n",
       "      <th>EXT5</th>\n",
       "      <th>EXT6</th>\n",
       "      <th>EXT7</th>\n",
       "      <th>EXT8</th>\n",
       "      <th>EXT9</th>\n",
       "      <th>EXT10</th>\n",
       "      <th>...</th>\n",
       "      <th>dateload</th>\n",
       "      <th>screenw</th>\n",
       "      <th>screenh</th>\n",
       "      <th>introelapse</th>\n",
       "      <th>testelapse</th>\n",
       "      <th>endelapse</th>\n",
       "      <th>IPC</th>\n",
       "      <th>country</th>\n",
       "      <th>lat_appx_lots_of_err</th>\n",
       "      <th>long_appx_lots_of_err</th>\n",
       "    </tr>\n",
       "  </thead>\n",
       "  <tbody>\n",
       "    <tr>\n",
       "      <th>0</th>\n",
       "      <td>4.0</td>\n",
       "      <td>1.0</td>\n",
       "      <td>5.0</td>\n",
       "      <td>2.0</td>\n",
       "      <td>5.0</td>\n",
       "      <td>1.0</td>\n",
       "      <td>5.0</td>\n",
       "      <td>2.0</td>\n",
       "      <td>4.0</td>\n",
       "      <td>1.0</td>\n",
       "      <td>...</td>\n",
       "      <td>2016-03-03 02:01:01</td>\n",
       "      <td>768.0</td>\n",
       "      <td>1024.0</td>\n",
       "      <td>9.0</td>\n",
       "      <td>234.0</td>\n",
       "      <td>6</td>\n",
       "      <td>1</td>\n",
       "      <td>GB</td>\n",
       "      <td>51.5448</td>\n",
       "      <td>0.1991</td>\n",
       "    </tr>\n",
       "    <tr>\n",
       "      <th>1</th>\n",
       "      <td>3.0</td>\n",
       "      <td>5.0</td>\n",
       "      <td>3.0</td>\n",
       "      <td>4.0</td>\n",
       "      <td>3.0</td>\n",
       "      <td>3.0</td>\n",
       "      <td>2.0</td>\n",
       "      <td>5.0</td>\n",
       "      <td>1.0</td>\n",
       "      <td>5.0</td>\n",
       "      <td>...</td>\n",
       "      <td>2016-03-03 02:01:20</td>\n",
       "      <td>1360.0</td>\n",
       "      <td>768.0</td>\n",
       "      <td>12.0</td>\n",
       "      <td>179.0</td>\n",
       "      <td>11</td>\n",
       "      <td>1</td>\n",
       "      <td>MY</td>\n",
       "      <td>3.1698</td>\n",
       "      <td>101.706</td>\n",
       "    </tr>\n",
       "    <tr>\n",
       "      <th>2</th>\n",
       "      <td>2.0</td>\n",
       "      <td>3.0</td>\n",
       "      <td>4.0</td>\n",
       "      <td>4.0</td>\n",
       "      <td>3.0</td>\n",
       "      <td>2.0</td>\n",
       "      <td>1.0</td>\n",
       "      <td>3.0</td>\n",
       "      <td>2.0</td>\n",
       "      <td>5.0</td>\n",
       "      <td>...</td>\n",
       "      <td>2016-03-03 02:01:56</td>\n",
       "      <td>1366.0</td>\n",
       "      <td>768.0</td>\n",
       "      <td>3.0</td>\n",
       "      <td>186.0</td>\n",
       "      <td>7</td>\n",
       "      <td>1</td>\n",
       "      <td>GB</td>\n",
       "      <td>54.9119</td>\n",
       "      <td>-1.3833</td>\n",
       "    </tr>\n",
       "    <tr>\n",
       "      <th>3</th>\n",
       "      <td>2.0</td>\n",
       "      <td>2.0</td>\n",
       "      <td>2.0</td>\n",
       "      <td>3.0</td>\n",
       "      <td>4.0</td>\n",
       "      <td>2.0</td>\n",
       "      <td>2.0</td>\n",
       "      <td>4.0</td>\n",
       "      <td>1.0</td>\n",
       "      <td>4.0</td>\n",
       "      <td>...</td>\n",
       "      <td>2016-03-03 02:02:02</td>\n",
       "      <td>1920.0</td>\n",
       "      <td>1200.0</td>\n",
       "      <td>186.0</td>\n",
       "      <td>219.0</td>\n",
       "      <td>7</td>\n",
       "      <td>1</td>\n",
       "      <td>GB</td>\n",
       "      <td>51.75</td>\n",
       "      <td>-1.25</td>\n",
       "    </tr>\n",
       "    <tr>\n",
       "      <th>4</th>\n",
       "      <td>3.0</td>\n",
       "      <td>3.0</td>\n",
       "      <td>3.0</td>\n",
       "      <td>3.0</td>\n",
       "      <td>5.0</td>\n",
       "      <td>3.0</td>\n",
       "      <td>3.0</td>\n",
       "      <td>5.0</td>\n",
       "      <td>3.0</td>\n",
       "      <td>4.0</td>\n",
       "      <td>...</td>\n",
       "      <td>2016-03-03 02:02:57</td>\n",
       "      <td>1366.0</td>\n",
       "      <td>768.0</td>\n",
       "      <td>8.0</td>\n",
       "      <td>315.0</td>\n",
       "      <td>17</td>\n",
       "      <td>2</td>\n",
       "      <td>KE</td>\n",
       "      <td>1.0</td>\n",
       "      <td>38.0</td>\n",
       "    </tr>\n",
       "  </tbody>\n",
       "</table>\n",
       "<p>5 rows × 110 columns</p>\n",
       "</div>"
      ],
      "text/plain": [
       "   EXT1  EXT2  EXT3  EXT4  EXT5  EXT6  EXT7  EXT8  EXT9  EXT10  ...  \\\n",
       "0   4.0   1.0   5.0   2.0   5.0   1.0   5.0   2.0   4.0    1.0  ...   \n",
       "1   3.0   5.0   3.0   4.0   3.0   3.0   2.0   5.0   1.0    5.0  ...   \n",
       "2   2.0   3.0   4.0   4.0   3.0   2.0   1.0   3.0   2.0    5.0  ...   \n",
       "3   2.0   2.0   2.0   3.0   4.0   2.0   2.0   4.0   1.0    4.0  ...   \n",
       "4   3.0   3.0   3.0   3.0   5.0   3.0   3.0   5.0   3.0    4.0  ...   \n",
       "\n",
       "              dateload  screenw  screenh  introelapse  testelapse  endelapse  \\\n",
       "0  2016-03-03 02:01:01    768.0   1024.0          9.0       234.0          6   \n",
       "1  2016-03-03 02:01:20   1360.0    768.0         12.0       179.0         11   \n",
       "2  2016-03-03 02:01:56   1366.0    768.0          3.0       186.0          7   \n",
       "3  2016-03-03 02:02:02   1920.0   1200.0        186.0       219.0          7   \n",
       "4  2016-03-03 02:02:57   1366.0    768.0          8.0       315.0         17   \n",
       "\n",
       "   IPC  country  lat_appx_lots_of_err  long_appx_lots_of_err  \n",
       "0    1       GB               51.5448                 0.1991  \n",
       "1    1       MY                3.1698                101.706  \n",
       "2    1       GB               54.9119                -1.3833  \n",
       "3    1       GB                 51.75                  -1.25  \n",
       "4    2       KE                   1.0                   38.0  \n",
       "\n",
       "[5 rows x 110 columns]"
      ]
     },
     "execution_count": 5,
     "metadata": {},
     "output_type": "execute_result"
    }
   ],
   "source": [
    "df = pd.read_csv(\"data-final.csv\", delimiter=\"\\t\")\n",
    "df.head()"
   ]
  },
  {
   "cell_type": "code",
   "execution_count": 8,
   "id": "25b5b6e6",
   "metadata": {},
   "outputs": [
    {
     "data": {
      "text/plain": [
       "(1015341, 110)"
      ]
     },
     "execution_count": 8,
     "metadata": {},
     "output_type": "execute_result"
    }
   ],
   "source": [
    "df.shape"
   ]
  },
  {
   "cell_type": "code",
   "execution_count": 18,
   "id": "7fb1c339",
   "metadata": {},
   "outputs": [
    {
     "data": {
      "text/plain": [
       "EXT1                     1783\n",
       "EXT2                     1783\n",
       "EXT3                     1783\n",
       "EXT4                     1783\n",
       "EXT5                     1783\n",
       "                         ... \n",
       "endelapse                   0\n",
       "IPC                         0\n",
       "country                    77\n",
       "lat_appx_lots_of_err        0\n",
       "long_appx_lots_of_err       0\n",
       "Length: 110, dtype: int64"
      ]
     },
     "execution_count": 18,
     "metadata": {},
     "output_type": "execute_result"
    }
   ],
   "source": [
    "df.isnull().sum()"
   ]
  },
  {
   "cell_type": "code",
   "execution_count": 21,
   "id": "b6b483cb",
   "metadata": {},
   "outputs": [],
   "source": [
    "df = df.dropna()"
   ]
  },
  {
   "cell_type": "code",
   "execution_count": 23,
   "id": "bb8d9a11",
   "metadata": {},
   "outputs": [
    {
     "data": {
      "text/plain": [
       "EXT1                     0\n",
       "EXT2                     0\n",
       "EXT3                     0\n",
       "EXT4                     0\n",
       "EXT5                     0\n",
       "                        ..\n",
       "endelapse                0\n",
       "IPC                      0\n",
       "country                  0\n",
       "lat_appx_lots_of_err     0\n",
       "long_appx_lots_of_err    0\n",
       "Length: 110, dtype: int64"
      ]
     },
     "execution_count": 23,
     "metadata": {},
     "output_type": "execute_result"
    }
   ],
   "source": [
    "df.isnull().sum()"
   ]
  },
  {
   "cell_type": "code",
   "execution_count": 24,
   "id": "7ac7d7a9",
   "metadata": {},
   "outputs": [
    {
     "data": {
      "text/plain": [
       "1012050"
      ]
     },
     "execution_count": 24,
     "metadata": {},
     "output_type": "execute_result"
    }
   ],
   "source": [
    "len(df)"
   ]
  },
  {
   "cell_type": "markdown",
   "id": "726af2ac",
   "metadata": {},
   "source": [
    "## EXT (Extroversion - E)"
   ]
  },
  {
   "cell_type": "code",
   "execution_count": 29,
   "id": "d66a49ef",
   "metadata": {},
   "outputs": [],
   "source": [
    "EXT1_sum = df.EXT1.sum()/len(df)\n",
    "EXT2_sum = df.EXT2.sum()/len(df)\n",
    "EXT3_sum = df.EXT3.sum()/len(df)\n",
    "EXT4_sum = df.EXT4.sum()/len(df)\n",
    "EXT5_sum = df.EXT5.sum()/len(df)\n",
    "EXT6_sum = df.EXT6.sum()/len(df)\n",
    "EXT7_sum = df.EXT7.sum()/len(df)\n",
    "EXT8_sum = df.EXT8.sum()/len(df)\n",
    "EXT9_sum = df.EXT9.sum()/len(df)\n",
    "EXT10_sum = df.EXT10.sum()/len(df)"
   ]
  },
  {
   "cell_type": "code",
   "execution_count": 51,
   "id": "b0a27f95",
   "metadata": {},
   "outputs": [
    {
     "data": {
      "text/plain": [
       "9.661759794476556"
      ]
     },
     "execution_count": 51,
     "metadata": {},
     "output_type": "execute_result"
    }
   ],
   "source": [
    "EXT = 10 + EXT1_sum - EXT2_sum + EXT3_sum - EXT4_sum + EXT5_sum - EXT6_sum + EXT7_sum - EXT8_sum + EXT9_sum - EXT10_sum\n",
    "EXT"
   ]
  },
  {
   "cell_type": "markdown",
   "id": "ae7c1f41",
   "metadata": {},
   "source": [
    "## EST (Neuroticism - N)"
   ]
  },
  {
   "cell_type": "code",
   "execution_count": 34,
   "id": "82c7b49a",
   "metadata": {},
   "outputs": [],
   "source": [
    "EST1_sum = df.EST1.sum()/len(df)\n",
    "EST2_sum = df.EST2.sum()/len(df)\n",
    "EST3_sum = df.EST3.sum()/len(df)\n",
    "EST4_sum = df.EST4.sum()/len(df)\n",
    "EST5_sum = df.EST5.sum()/len(df)\n",
    "EST6_sum = df.EST6.sum()/len(df)\n",
    "EST7_sum = df.EST7.sum()/len(df)\n",
    "EST8_sum = df.EST8.sum()/len(df)\n",
    "EST9_sum = df.EST9.sum()/len(df)\n",
    "EST10_sum = df.EST10.sum()/len(df)"
   ]
  },
  {
   "cell_type": "code",
   "execution_count": 35,
   "id": "753c2ed3",
   "metadata": {},
   "outputs": [
    {
     "data": {
      "text/plain": [
       "19.416079245096594"
      ]
     },
     "execution_count": 35,
     "metadata": {},
     "output_type": "execute_result"
    }
   ],
   "source": [
    "EST = 38 - EST1_sum + EST2_sum - EST3_sum + EST4_sum - EST5_sum - EST6_sum - EST7_sum - EST8_sum - EST9_sum - EST10_sum\n",
    "EST"
   ]
  },
  {
   "cell_type": "markdown",
   "id": "e4f94fc1",
   "metadata": {},
   "source": [
    "## AGR (Agreeableness - A)"
   ]
  },
  {
   "cell_type": "code",
   "execution_count": 36,
   "id": "c9094a9f",
   "metadata": {},
   "outputs": [],
   "source": [
    "AGR1_sum = df.AGR1.sum()/len(df)\n",
    "AGR2_sum = df.AGR2.sum()/len(df)\n",
    "AGR3_sum = df.AGR3.sum()/len(df)\n",
    "AGR4_sum = df.AGR4.sum()/len(df)\n",
    "AGR5_sum = df.AGR5.sum()/len(df)\n",
    "AGR6_sum = df.AGR6.sum()/len(df)\n",
    "AGR7_sum = df.AGR7.sum()/len(df)\n",
    "AGR8_sum = df.AGR8.sum()/len(df)\n",
    "AGR9_sum = df.AGR9.sum()/len(df)\n",
    "AGR10_sum = df.AGR10.sum()/len(df)"
   ]
  },
  {
   "cell_type": "code",
   "execution_count": 37,
   "id": "2551c6f4",
   "metadata": {},
   "outputs": [
    {
     "data": {
      "text/plain": [
       "27.589762363519593"
      ]
     },
     "execution_count": 37,
     "metadata": {},
     "output_type": "execute_result"
    }
   ],
   "source": [
    "AGR = 14 - AGR1_sum + AGR2_sum - AGR3_sum + AGR4_sum - AGR5_sum + AGR6_sum - AGR7_sum + AGR8_sum + AGR9_sum + AGR10_sum\n",
    "AGR"
   ]
  },
  {
   "cell_type": "markdown",
   "id": "11427b47",
   "metadata": {},
   "source": [
    "## CSN (Conscientiousness - C)"
   ]
  },
  {
   "cell_type": "code",
   "execution_count": 38,
   "id": "ba0a4f3b",
   "metadata": {},
   "outputs": [],
   "source": [
    "CSN1_sum = df.CSN1.sum()/len(df)\n",
    "CSN2_sum = df.CSN2.sum()/len(df)\n",
    "CSN3_sum = df.CSN3.sum()/len(df)\n",
    "CSN4_sum = df.CSN4.sum()/len(df)\n",
    "CSN5_sum = df.CSN5.sum()/len(df)\n",
    "CSN6_sum = df.CSN6.sum()/len(df)\n",
    "CSN7_sum = df.CSN7.sum()/len(df)\n",
    "CSN8_sum = df.CSN8.sum()/len(df)\n",
    "CSN9_sum = df.CSN9.sum()/len(df)\n",
    "CSN10_sum = df.CSN10.sum()/len(df)"
   ]
  },
  {
   "cell_type": "code",
   "execution_count": 39,
   "id": "64008742",
   "metadata": {},
   "outputs": [
    {
     "data": {
      "text/plain": [
       "23.543337779753962"
      ]
     },
     "execution_count": 39,
     "metadata": {},
     "output_type": "execute_result"
    }
   ],
   "source": [
    "CSN = 14 + CSN1_sum - CSN2_sum + CSN3_sum - CSN4_sum + CSN5_sum - CSN6_sum + CSN7_sum - CSN8_sum + CSN9_sum + CSN10_sum\n",
    "CSN"
   ]
  },
  {
   "cell_type": "markdown",
   "id": "f5519f95",
   "metadata": {},
   "source": [
    "## OPN (Openness to Experience - O)"
   ]
  },
  {
   "cell_type": "code",
   "execution_count": 40,
   "id": "fe14a745",
   "metadata": {},
   "outputs": [],
   "source": [
    "OPN1_sum = df.OPN1.sum()/len(df)\n",
    "OPN2_sum = df.OPN2.sum()/len(df)\n",
    "OPN3_sum = df.OPN3.sum()/len(df)\n",
    "OPN4_sum = df.OPN4.sum()/len(df)\n",
    "OPN5_sum = df.OPN5.sum()/len(df)\n",
    "OPN6_sum = df.OPN6.sum()/len(df)\n",
    "OPN7_sum = df.OPN7.sum()/len(df)\n",
    "OPN8_sum = df.OPN8.sum()/len(df)\n",
    "OPN9_sum = df.OPN9.sum()/len(df)\n",
    "OPN10_sum = df.OPN10.sum()/len(df)"
   ]
  },
  {
   "cell_type": "code",
   "execution_count": 41,
   "id": "4803c48d",
   "metadata": {},
   "outputs": [
    {
     "data": {
      "text/plain": [
       "28.719190751445087"
      ]
     },
     "execution_count": 41,
     "metadata": {},
     "output_type": "execute_result"
    }
   ],
   "source": [
    "OPN = 8 + OPN1_sum - OPN2_sum + OPN3_sum - OPN4_sum + OPN5_sum - OPN6_sum + OPN7_sum + OPN8_sum + OPN9_sum + OPN10_sum\n",
    "OPN"
   ]
  },
  {
   "cell_type": "code",
   "execution_count": 53,
   "id": "732f513f",
   "metadata": {},
   "outputs": [],
   "source": [
    "EXT = round(EXT, 1)\n",
    "EST = round(EST, 1)\n",
    "AGR = round(AGR, 1)\n",
    "CSN = round(CSN, 1)\n",
    "OPN = round(OPN, 1)"
   ]
  },
  {
   "cell_type": "code",
   "execution_count": 54,
   "id": "1f034b32",
   "metadata": {},
   "outputs": [
    {
     "name": "stdout",
     "output_type": "stream",
     "text": [
      "Final mean:\n",
      "EXT = 9.7\n",
      "EST = 19.4\n",
      "AGR = 27.6\n",
      "CSN = 23.5\n",
      "OPN = 28.7\n"
     ]
    }
   ],
   "source": [
    "print(f\"Final mean:\\n{EXT = }\\n{EST = }\\n{AGR = }\\n{CSN = }\\n{OPN = }\")"
   ]
  },
  {
   "cell_type": "code",
   "execution_count": null,
   "id": "44cb7aa6",
   "metadata": {},
   "outputs": [],
   "source": []
  }
 ],
 "metadata": {
  "kernelspec": {
   "display_name": "Python 3 (ipykernel)",
   "language": "python",
   "name": "python3"
  },
  "language_info": {
   "codemirror_mode": {
    "name": "ipython",
    "version": 3
   },
   "file_extension": ".py",
   "mimetype": "text/x-python",
   "name": "python",
   "nbconvert_exporter": "python",
   "pygments_lexer": "ipython3",
   "version": "3.9.7"
  }
 },
 "nbformat": 4,
 "nbformat_minor": 5
}
